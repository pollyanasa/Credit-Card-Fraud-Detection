{
 "cells": [
  {
   "cell_type": "markdown",
   "metadata": {},
   "source": [
    "## SecurePay: Credit Card Fraud Detection Data\n",
    "#### dataset from kaggle: https://www.kaggle.com/datasets/eshummalik/securepay-credit-card-fraud-detection-data"
   ]
  },
  {
   "cell_type": "markdown",
   "metadata": {},
   "source": [
    "## libraries"
   ]
  },
  {
   "cell_type": "code",
   "execution_count": 1,
   "metadata": {},
   "outputs": [],
   "source": [
    "from imblearn.over_sampling import SMOTE\n",
    "from sklearn.model_selection import cross_validate, StratifiedKFold\n",
    "from sklearn.ensemble import RandomForestClassifier, ExtraTreesClassifier\n",
    "from xgboost import XGBClassifier\n",
    "from lightgbm import LGBMClassifier\n",
    "from sklearn.model_selection import train_test_split\n",
    "from sklearn.metrics import classification_report, confusion_matrix, roc_auc_score, roc_curve\n",
    "import matplotlib.pyplot as plt\n",
    "import seaborn as sns\n",
    "import pandas as pd\n",
    "import numpy as np\n",
    "# Set seaborn style\n",
    "sns.set(style='whitegrid')"
   ]
  },
  {
   "cell_type": "markdown",
   "metadata": {},
   "source": [
    "## Load the Data"
   ]
  },
  {
   "cell_type": "code",
   "execution_count": 2,
   "metadata": {},
   "outputs": [],
   "source": [
    "df = pd.read_csv('/home/pollyanas/Downloads/creditcard.csv') "
   ]
  },
  {
   "cell_type": "markdown",
   "metadata": {},
   "source": [
    "## EDA"
   ]
  },
  {
   "cell_type": "code",
   "execution_count": 3,
   "metadata": {},
   "outputs": [
    {
     "data": {
      "text/html": [
       "<div>\n",
       "<style scoped>\n",
       "    .dataframe tbody tr th:only-of-type {\n",
       "        vertical-align: middle;\n",
       "    }\n",
       "\n",
       "    .dataframe tbody tr th {\n",
       "        vertical-align: top;\n",
       "    }\n",
       "\n",
       "    .dataframe thead th {\n",
       "        text-align: right;\n",
       "    }\n",
       "</style>\n",
       "<table border=\"1\" class=\"dataframe\">\n",
       "  <thead>\n",
       "    <tr style=\"text-align: right;\">\n",
       "      <th></th>\n",
       "      <th>Time</th>\n",
       "      <th>V1</th>\n",
       "      <th>V2</th>\n",
       "      <th>V3</th>\n",
       "      <th>V4</th>\n",
       "      <th>V5</th>\n",
       "      <th>V6</th>\n",
       "      <th>V7</th>\n",
       "      <th>V8</th>\n",
       "      <th>V9</th>\n",
       "      <th>...</th>\n",
       "      <th>V21</th>\n",
       "      <th>V22</th>\n",
       "      <th>V23</th>\n",
       "      <th>V24</th>\n",
       "      <th>V25</th>\n",
       "      <th>V26</th>\n",
       "      <th>V27</th>\n",
       "      <th>V28</th>\n",
       "      <th>Amount</th>\n",
       "      <th>Class</th>\n",
       "    </tr>\n",
       "  </thead>\n",
       "  <tbody>\n",
       "    <tr>\n",
       "      <th>0</th>\n",
       "      <td>0.0</td>\n",
       "      <td>-1.359807</td>\n",
       "      <td>-0.072781</td>\n",
       "      <td>2.536347</td>\n",
       "      <td>1.378155</td>\n",
       "      <td>-0.338321</td>\n",
       "      <td>0.462388</td>\n",
       "      <td>0.239599</td>\n",
       "      <td>0.098698</td>\n",
       "      <td>0.363787</td>\n",
       "      <td>...</td>\n",
       "      <td>-0.018307</td>\n",
       "      <td>0.277838</td>\n",
       "      <td>-0.110474</td>\n",
       "      <td>0.066928</td>\n",
       "      <td>0.128539</td>\n",
       "      <td>-0.189115</td>\n",
       "      <td>0.133558</td>\n",
       "      <td>-0.021053</td>\n",
       "      <td>149.62</td>\n",
       "      <td>0</td>\n",
       "    </tr>\n",
       "    <tr>\n",
       "      <th>1</th>\n",
       "      <td>0.0</td>\n",
       "      <td>1.191857</td>\n",
       "      <td>0.266151</td>\n",
       "      <td>0.166480</td>\n",
       "      <td>0.448154</td>\n",
       "      <td>0.060018</td>\n",
       "      <td>-0.082361</td>\n",
       "      <td>-0.078803</td>\n",
       "      <td>0.085102</td>\n",
       "      <td>-0.255425</td>\n",
       "      <td>...</td>\n",
       "      <td>-0.225775</td>\n",
       "      <td>-0.638672</td>\n",
       "      <td>0.101288</td>\n",
       "      <td>-0.339846</td>\n",
       "      <td>0.167170</td>\n",
       "      <td>0.125895</td>\n",
       "      <td>-0.008983</td>\n",
       "      <td>0.014724</td>\n",
       "      <td>2.69</td>\n",
       "      <td>0</td>\n",
       "    </tr>\n",
       "    <tr>\n",
       "      <th>2</th>\n",
       "      <td>1.0</td>\n",
       "      <td>-1.358354</td>\n",
       "      <td>-1.340163</td>\n",
       "      <td>1.773209</td>\n",
       "      <td>0.379780</td>\n",
       "      <td>-0.503198</td>\n",
       "      <td>1.800499</td>\n",
       "      <td>0.791461</td>\n",
       "      <td>0.247676</td>\n",
       "      <td>-1.514654</td>\n",
       "      <td>...</td>\n",
       "      <td>0.247998</td>\n",
       "      <td>0.771679</td>\n",
       "      <td>0.909412</td>\n",
       "      <td>-0.689281</td>\n",
       "      <td>-0.327642</td>\n",
       "      <td>-0.139097</td>\n",
       "      <td>-0.055353</td>\n",
       "      <td>-0.059752</td>\n",
       "      <td>378.66</td>\n",
       "      <td>0</td>\n",
       "    </tr>\n",
       "    <tr>\n",
       "      <th>3</th>\n",
       "      <td>1.0</td>\n",
       "      <td>-0.966272</td>\n",
       "      <td>-0.185226</td>\n",
       "      <td>1.792993</td>\n",
       "      <td>-0.863291</td>\n",
       "      <td>-0.010309</td>\n",
       "      <td>1.247203</td>\n",
       "      <td>0.237609</td>\n",
       "      <td>0.377436</td>\n",
       "      <td>-1.387024</td>\n",
       "      <td>...</td>\n",
       "      <td>-0.108300</td>\n",
       "      <td>0.005274</td>\n",
       "      <td>-0.190321</td>\n",
       "      <td>-1.175575</td>\n",
       "      <td>0.647376</td>\n",
       "      <td>-0.221929</td>\n",
       "      <td>0.062723</td>\n",
       "      <td>0.061458</td>\n",
       "      <td>123.50</td>\n",
       "      <td>0</td>\n",
       "    </tr>\n",
       "    <tr>\n",
       "      <th>4</th>\n",
       "      <td>2.0</td>\n",
       "      <td>-1.158233</td>\n",
       "      <td>0.877737</td>\n",
       "      <td>1.548718</td>\n",
       "      <td>0.403034</td>\n",
       "      <td>-0.407193</td>\n",
       "      <td>0.095921</td>\n",
       "      <td>0.592941</td>\n",
       "      <td>-0.270533</td>\n",
       "      <td>0.817739</td>\n",
       "      <td>...</td>\n",
       "      <td>-0.009431</td>\n",
       "      <td>0.798278</td>\n",
       "      <td>-0.137458</td>\n",
       "      <td>0.141267</td>\n",
       "      <td>-0.206010</td>\n",
       "      <td>0.502292</td>\n",
       "      <td>0.219422</td>\n",
       "      <td>0.215153</td>\n",
       "      <td>69.99</td>\n",
       "      <td>0</td>\n",
       "    </tr>\n",
       "  </tbody>\n",
       "</table>\n",
       "<p>5 rows × 31 columns</p>\n",
       "</div>"
      ],
      "text/plain": [
       "   Time        V1        V2        V3        V4        V5        V6        V7  \\\n",
       "0   0.0 -1.359807 -0.072781  2.536347  1.378155 -0.338321  0.462388  0.239599   \n",
       "1   0.0  1.191857  0.266151  0.166480  0.448154  0.060018 -0.082361 -0.078803   \n",
       "2   1.0 -1.358354 -1.340163  1.773209  0.379780 -0.503198  1.800499  0.791461   \n",
       "3   1.0 -0.966272 -0.185226  1.792993 -0.863291 -0.010309  1.247203  0.237609   \n",
       "4   2.0 -1.158233  0.877737  1.548718  0.403034 -0.407193  0.095921  0.592941   \n",
       "\n",
       "         V8        V9  ...       V21       V22       V23       V24       V25  \\\n",
       "0  0.098698  0.363787  ... -0.018307  0.277838 -0.110474  0.066928  0.128539   \n",
       "1  0.085102 -0.255425  ... -0.225775 -0.638672  0.101288 -0.339846  0.167170   \n",
       "2  0.247676 -1.514654  ...  0.247998  0.771679  0.909412 -0.689281 -0.327642   \n",
       "3  0.377436 -1.387024  ... -0.108300  0.005274 -0.190321 -1.175575  0.647376   \n",
       "4 -0.270533  0.817739  ... -0.009431  0.798278 -0.137458  0.141267 -0.206010   \n",
       "\n",
       "        V26       V27       V28  Amount  Class  \n",
       "0 -0.189115  0.133558 -0.021053  149.62      0  \n",
       "1  0.125895 -0.008983  0.014724    2.69      0  \n",
       "2 -0.139097 -0.055353 -0.059752  378.66      0  \n",
       "3 -0.221929  0.062723  0.061458  123.50      0  \n",
       "4  0.502292  0.219422  0.215153   69.99      0  \n",
       "\n",
       "[5 rows x 31 columns]"
      ]
     },
     "execution_count": 3,
     "metadata": {},
     "output_type": "execute_result"
    }
   ],
   "source": [
    "df.head()"
   ]
  },
  {
   "cell_type": "code",
   "execution_count": 4,
   "metadata": {},
   "outputs": [
    {
     "name": "stdout",
     "output_type": "stream",
     "text": [
      "<class 'pandas.core.frame.DataFrame'>\n",
      "RangeIndex: 284807 entries, 0 to 284806\n",
      "Data columns (total 31 columns):\n",
      " #   Column  Non-Null Count   Dtype  \n",
      "---  ------  --------------   -----  \n",
      " 0   Time    284807 non-null  float64\n",
      " 1   V1      284807 non-null  float64\n",
      " 2   V2      284807 non-null  float64\n",
      " 3   V3      284807 non-null  float64\n",
      " 4   V4      284807 non-null  float64\n",
      " 5   V5      284807 non-null  float64\n",
      " 6   V6      284807 non-null  float64\n",
      " 7   V7      284807 non-null  float64\n",
      " 8   V8      284807 non-null  float64\n",
      " 9   V9      284807 non-null  float64\n",
      " 10  V10     284807 non-null  float64\n",
      " 11  V11     284807 non-null  float64\n",
      " 12  V12     284807 non-null  float64\n",
      " 13  V13     284807 non-null  float64\n",
      " 14  V14     284807 non-null  float64\n",
      " 15  V15     284807 non-null  float64\n",
      " 16  V16     284807 non-null  float64\n",
      " 17  V17     284807 non-null  float64\n",
      " 18  V18     284807 non-null  float64\n",
      " 19  V19     284807 non-null  float64\n",
      " 20  V20     284807 non-null  float64\n",
      " 21  V21     284807 non-null  float64\n",
      " 22  V22     284807 non-null  float64\n",
      " 23  V23     284807 non-null  float64\n",
      " 24  V24     284807 non-null  float64\n",
      " 25  V25     284807 non-null  float64\n",
      " 26  V26     284807 non-null  float64\n",
      " 27  V27     284807 non-null  float64\n",
      " 28  V28     284807 non-null  float64\n",
      " 29  Amount  284807 non-null  float64\n",
      " 30  Class   284807 non-null  int64  \n",
      "dtypes: float64(30), int64(1)\n",
      "memory usage: 67.4 MB\n"
     ]
    }
   ],
   "source": [
    "df.info()"
   ]
  },
  {
   "cell_type": "code",
   "execution_count": 5,
   "metadata": {},
   "outputs": [
    {
     "name": "stdout",
     "output_type": "stream",
     "text": [
      "Shape of dataset: (284807, 31)\n",
      "\n",
      "Missing values:\n",
      " Time      0\n",
      "V1        0\n",
      "V2        0\n",
      "V3        0\n",
      "V4        0\n",
      "V5        0\n",
      "V6        0\n",
      "V7        0\n",
      "V8        0\n",
      "V9        0\n",
      "V10       0\n",
      "V11       0\n",
      "V12       0\n",
      "V13       0\n",
      "V14       0\n",
      "V15       0\n",
      "V16       0\n",
      "V17       0\n",
      "V18       0\n",
      "V19       0\n",
      "V20       0\n",
      "V21       0\n",
      "V22       0\n",
      "V23       0\n",
      "V24       0\n",
      "V25       0\n",
      "V26       0\n",
      "V27       0\n",
      "V28       0\n",
      "Amount    0\n",
      "Class     0\n",
      "dtype: int64\n"
     ]
    }
   ],
   "source": [
    "# Basic Info\n",
    "print(\"Shape of dataset:\", df.shape)\n",
    "print(\"\\nMissing values:\\n\", df.isnull().sum())"
   ]
  },
  {
   "cell_type": "code",
   "execution_count": 6,
   "metadata": {},
   "outputs": [
    {
     "name": "stdout",
     "output_type": "stream",
     "text": [
      "Class Distribution:\n",
      " 0    284315\n",
      "1       492\n",
      "Name: Class, dtype: int64\n"
     ]
    },
    {
     "data": {
      "image/png": "[encoded data removed]",
      "text/plain": [
       "<Figure size 432x288 with 1 Axes>"
      ]
     },
     "metadata": {
      "needs_background": "light"
     },
     "output_type": "display_data"
    }
   ],
   "source": [
    "# Class Distribution\n",
    "print(\"Class Distribution:\\n\", df['Class'].value_counts())\n",
    "sns.countplot(x='Class', data=df)\n",
    "plt.title(\"Class Distribution (0 = Normal, 1 = Fraud)\")\n",
    "plt.show()"
   ]
  },
  {
   "cell_type": "markdown",
   "metadata": {},
   "source": [
    "### Insights:\n",
    "\n",
    "#### Normal transactions (Class 0): 284,315 (≈ 99.83%)\n",
    "\n",
    "#### Fraudulent transactions (Class 1): 492 (≈ 0.17%)\n",
    "\n",
    "### This extreme imbalance is critical because:\n",
    "\n",
    "#### Standard classifiers may achieve high accuracy by predicting only the majority class.\n",
    "\n",
    "#### Performance metrics like accuracy become misleading.\n",
    "\n",
    "#### We must focus on metrics like precision, recall, F1-score, and AUC-ROC.\n",
    "\n",
    "### Special handling is needed, such as:\n",
    "\n",
    "#### Undersampling (reduce Class 0)\n",
    "\n",
    "#### Oversampling (e.g., SMOTE) (increase Class 1)\n",
    "\n",
    "#### Anomaly Detection approaches\n",
    "\n",
    "#### Ensemble methods"
   ]
  },
  {
   "cell_type": "code",
   "execution_count": 7,
   "metadata": {},
   "outputs": [
    {
     "data": {
      "image/png": "[encoded data removed]",
      "text/plain": [
       "<Figure size 720x360 with 1 Axes>"
      ]
     },
     "metadata": {
      "needs_background": "light"
     },
     "output_type": "display_data"
    }
   ],
   "source": [
    "# Create log-transformed column (add 1 to avoid log(0))\n",
    "df['log_Amount'] = np.log1p(df['Amount'])\n",
    "\n",
    "# Plot log-transformed distribution\n",
    "plt.figure(figsize=(10, 5))\n",
    "sns.histplot(df[df['Class'] == 0]['log_Amount'], bins=100, color='green', label='Normal', kde=True)\n",
    "sns.histplot(df[df['Class'] == 1]['log_Amount'], bins=100, color='red', label='Fraud', kde=True)\n",
    "plt.legend()\n",
    "plt.title(\"Log-Transformed Transaction Amount Distribution by Class\")\n",
    "plt.xlabel(\"log(Amount + 1)\")\n",
    "plt.ylabel(\"Count\")\n",
    "plt.show()"
   ]
  },
  {
   "cell_type": "markdown",
   "metadata": {},
   "source": [
    "### Insights:\n",
    "\n",
    "#### Fraudulent transactions (red line) are mostly concentrated in the lower range of log amounts (log(Amount + 1) ≈ 0–4), which corresponds to small real-world transaction values (~$1–$50).\n",
    "\n",
    "#### Normal transactions (green line) span a much wider range of log-transformed values — indicating more variability and higher maximum amounts.\n",
    "\n",
    "#### The mode (peak) of normal transactions is around log(Amount) ≈ 1.5 (~$3.5).\n",
    "\n",
    "#### There's almost no fraud activity at high amounts, which may be intentional to avoid detection."
   ]
  },
  {
   "cell_type": "code",
   "execution_count": 8,
   "metadata": {},
   "outputs": [
    {
     "data": {
      "image/png": "[encoded data removed]",
      "text/plain": [
       "<Figure size 576x432 with 1 Axes>"
      ]
     },
     "metadata": {
      "needs_background": "light"
     },
     "output_type": "display_data"
    }
   ],
   "source": [
    "# Boxplot using log-transformed amount\n",
    "plt.figure(figsize=(8, 6))\n",
    "sns.boxplot(x='Class', y='log_Amount', data=df)\n",
    "plt.title(\"Log-Transformed Transaction Amount by Class\")\n",
    "plt.xlabel(\"Class (0 = Normal, 1 = Fraud)\")\n",
    "plt.ylabel(\"log(Amount + 1)\")\n",
    "plt.show()"
   ]
  },
  {
   "cell_type": "markdown",
   "metadata": {},
   "source": [
    "### Class 0 (Normal):\n",
    "\n",
    "#### Median: Around log(3) ≈ 1.1\n",
    "\n",
    "#### IQR: Much wider, showing more variability in transaction amounts\n",
    "\n",
    "#### Outliers: Some extremely high-value transactions still exist (log > 8)\n",
    "\n",
    "### Class 1 (Fraud):\n",
    "\n",
    "#### Median: Lower, around log(1.5) ≈ 0.4\n",
    "\n",
    "#### IQR: Tighter spread\n",
    "\n",
    "#### Suggests frauds are consistently low to mid-value\n",
    "\n",
    "### ➤ This confirms that many fraudulent transactions cluster around lower monetary values — a typical strategy to avoid triggering suspicion."
   ]
  },
  {
   "cell_type": "code",
   "execution_count": 9,
   "metadata": {},
   "outputs": [
    {
     "data": {
      "image/png": "[encoded data removed]",
      "text/plain": [
       "<Figure size 864x432 with 1 Axes>"
      ]
     },
     "metadata": {
      "needs_background": "light"
     },
     "output_type": "display_data"
    }
   ],
   "source": [
    "# Convert 'Time' into datetime \n",
    "start_time = pd.Timestamp('2013-01-01 00:00:00')\n",
    "df['Datetime'] = df['Time'].apply(lambda x: start_time + pd.to_timedelta(x, unit='s'))\n",
    "\n",
    "# Extract hour of day\n",
    "df['Hour'] = df['Datetime'].dt.hour\n",
    "\n",
    "# Plot hourly transaction count by class\n",
    "plt.figure(figsize=(12, 6))\n",
    "sns.histplot(data=df, x='Hour', hue='Class', bins=24, multiple='stack', palette={0: 'green', 1: 'red'})\n",
    "plt.title('Transaction Count by Hour of Day and Class')\n",
    "plt.xlabel('Hour of Day (0–23)')\n",
    "plt.ylabel('Transaction Count')\n",
    "plt.xticks(range(0, 24))\n",
    "plt.grid(axis='y', linestyle='--', alpha=0.5)\n",
    "plt.tight_layout()\n",
    "plt.show()"
   ]
  },
  {
   "cell_type": "code",
   "execution_count": 10,
   "metadata": {},
   "outputs": [
    {
     "data": {
      "image/png": "[encoded data removed]",
      "text/plain": [
       "<Figure size 1296x432 with 2 Axes>"
      ]
     },
     "metadata": {
      "needs_background": "light"
     },
     "output_type": "display_data"
    }
   ],
   "source": [
    "# Prepare figure\n",
    "fig, axes = plt.subplots(1, 2, figsize=(18, 6), sharey=False)\n",
    "\n",
    "# Class 0: Normal\n",
    "sns.histplot(data=df[df['Class'] == 0], x='Hour', bins=24, color='green', ax=axes[0], discrete=True)\n",
    "axes[0].set_title('Normal Transactions by Hour')\n",
    "axes[0].set_xlabel('Hour of Day')\n",
    "axes[0].set_ylabel('Transaction Count')\n",
    "axes[0].set_xticks(range(0, 24))\n",
    "\n",
    "# Class 1: Fraud\n",
    "sns.histplot(data=df[df['Class'] == 1], x='Hour', bins=24, color='red', ax=axes[1], discrete=True)\n",
    "axes[1].set_title('Fraudulent Transactions by Hour')\n",
    "axes[1].set_xlabel('Hour of Day')\n",
    "axes[1].set_ylabel('Transaction Count')\n",
    "axes[1].set_xticks(range(0, 24))\n",
    "\n",
    "# Final layout\n",
    "plt.tight_layout()\n",
    "plt.show()"
   ]
  },
  {
   "cell_type": "markdown",
   "metadata": {},
   "source": [
    "### Normal Transactions (Class = 0)\n",
    "\n",
    "#### Peak hours: Between 9 AM and 9 PM\n",
    "\n",
    "#### Low volume: Overnight (midnight to 6 AM)\n",
    "\n",
    "#### This matches typical human activity patterns\n",
    "\n",
    "### Fraudulent Transactions (Class = 1)\n",
    "\n",
    "####  Peak fraud time: Hour 2 (2 AM)"
   ]
  },
  {
   "cell_type": "markdown",
   "metadata": {},
   "source": [
    "### Feature Selection from Correlation"
   ]
  },
  {
   "cell_type": "code",
   "execution_count": 12,
   "metadata": {},
   "outputs": [],
   "source": [
    "X = df.drop(columns=['Class', 'Datetime', 'Time', 'log_Amount'], errors='ignore')  \n",
    "y = df['Class']\n",
    "\n",
    "X_train, X_test, y_train, y_test = train_test_split(X, y, test_size=0.2, stratify=y, random_state=42)"
   ]
  },
  {
   "cell_type": "markdown",
   "metadata": {},
   "source": [
    "### SMOTE for Class Balance"
   ]
  },
  {
   "cell_type": "markdown",
   "metadata": {},
   "source": [
    "smote = SMOTE(random_state=42)\n",
    "X_train_res, y_train_res = smote.fit_resample(X_train, y_train)\n",
    "\n",
    "print(\"Before SMOTE:\", np.bincount(y_train))\n",
    "print(\"After SMOTE:\", np.bincount(y_train_res))"
   ]
  },
  {
   "cell_type": "markdown",
   "metadata": {},
   "source": [
    "## Why **Accuracy is Misleading**\n",
    "\n",
    "Your dataset is **highly imbalanced**:\n",
    "\n",
    "* Normal transactions ≈ 284,000\n",
    "* Fraud ≈ 492\n",
    "\n",
    "If you predict *everything* as “normal”:\n",
    "\n",
    "* Accuracy ≈ **99.8%**\n",
    "* But your model is **useless** (never detects fraud)\n",
    "\n",
    " That’s why we throw accuracy out.\n",
    "\n",
    "---\n",
    "\n",
    "## Why **F1-score**\n",
    "\n",
    "* Fraud detection is a **precision-recall tradeoff**:\n",
    "\n",
    "  * **Precision** → Of all predicted frauds, how many were actually fraud?\n",
    "  * **Recall** → Of all real frauds, how many did we catch?\n",
    "* **F1 combines both into one metric**:\n",
    "\n",
    "[\n",
    "F1 = 2 \\times \\frac{Precision \\cdot Recall}{Precision + Recall}\n",
    "]\n",
    "\n",
    " This is critical because:\n",
    "\n",
    "* If recall is high but precision is low → too many false alarms\n",
    "* If precision is high but recall is low → too many frauds missed\n",
    "* **F1 balances them**\n",
    "\n",
    "---\n",
    "\n",
    "## Why **ROC-AUC**\n",
    "\n",
    "* ROC-AUC = *Area Under Receiver Operating Characteristic Curve*\n",
    "* It measures how well the model separates classes **at all thresholds**\n",
    "* Threshold-independent → doesn’t matter if you pick 0.3, 0.5, or 0.7 probability cutoff\n",
    "* Good for comparing models holistically\n",
    "\n",
    " Example:\n",
    "\n",
    "* A model with ROC-AUC ≈ **0.98** can almost always rank frauds higher than normal transactions\n",
    "* Then you can fine-tune the threshold for business needs\n",
    "\n",
    "---\n",
    "\n",
    "## Summary\n",
    "\n",
    "* **F1** = best **single number** for balancing fraud detection trade-offs\n",
    "* **ROC-AUC** = best **overall measure** of separability, regardless of threshold\n",
    "\n",
    "| Metric      | Why Use It in Fraud Detection?           |\n",
    "| ----------- | ---------------------------------------- |\n",
    "| Accuracy    |  Misleading in imbalance                |\n",
    "| Precision   |  Important if false alarms cost is high |\n",
    "| Recall      |  Important if missing fraud is costly   |\n",
    "| **F1**      |  Best balance (precision + recall)      |\n",
    "| **ROC-AUC** |  Best overall ranking ability           |"
   ]
  },
  {
   "cell_type": "markdown",
   "metadata": {},
   "source": [
    "### Models with Cross Validation"
   ]
  },
  {
   "cell_type": "markdown",
   "metadata": {},
   "source": [
    "#### With SMOTE the models are overfitting, so I decided not to use it. Tree-based models have built-in imbalance handling.\n",
    "#### Added the hyperparameter to 'Random Forest', 'Extra Trees' and 'LightGBM': class_weight=\"balanced\"\n",
    "#### Added the hyperparameter to 'XGBoost': scale_pos_weight = (len(y_train[y_train==0]) / len(y_train[y_train==1]))"
   ]
  },
  {
   "cell_type": "code",
   "execution_count": 17,
   "metadata": {},
   "outputs": [
    {
     "name": "stdout",
     "output_type": "stream",
     "text": [
      "\n",
      "Running CV for Random Forest...\n",
      "\n",
      "Running CV for XGBoost...\n",
      "\n",
      "Running CV for Extra Trees...\n",
      "\n",
      "Running CV for LightGBM...\n",
      "                     F1   ROC AUC    PR AUC\n",
      "LightGBM       0.866563  0.983136  0.847408\n",
      "Extra Trees    0.853363  0.950244  0.848479\n",
      "XGBoost        0.742213  0.979108  0.832402\n",
      "Random Forest  0.696720  0.980904  0.769202\n"
     ]
    },
    {
     "data": {
      "image/png": "[encoded data removed]",
      "text/plain": [
       "<Figure size 576x360 with 1 Axes>"
      ]
     },
     "metadata": {
      "needs_background": "light"
     },
     "output_type": "display_data"
    }
   ],
   "source": [
    "models = {\n",
    "    \"Random Forest\": RandomForestClassifier(max_depth=6, n_estimators=100, max_features='sqrt', class_weight=\"balanced\", random_state=42),\n",
    "    \"XGBoost\": XGBClassifier(max_depth=4, n_estimators=50, subsample=0.8, colsample_bytree=0.8, use_label_encoder=False, eval_metric='logloss', scale_pos_weight = (len(y_train[y_train==0]) / len(y_train[y_train==1])), random_state=42),\n",
    "    \"Extra Trees\": ExtraTreesClassifier(n_estimators=100, class_weight=\"balanced\", random_state=42),\n",
    "    \"LightGBM\": LGBMClassifier(n_estimators=300, class_weight=\"balanced\", random_state=42)\n",
    "\n",
    "}\n",
    "\n",
    "cv = StratifiedKFold(n_splits=5, shuffle=True, random_state=42)\n",
    "\n",
    "scoring = {'f1': 'f1', 'roc_auc': 'roc_auc', 'pr_auc': 'average_precision'}\n",
    "\n",
    "cv_results = {}\n",
    "\n",
    "for name, model in models.items():\n",
    "    print(f\"\\nRunning CV for {name}...\")\n",
    "    scores = cross_validate(model, X_train, y_train, cv=cv, scoring=scoring)\n",
    "    cv_results[name] = {\n",
    "        'F1': np.mean(scores['test_f1']),\n",
    "        'ROC AUC': np.mean(scores['test_roc_auc']),\n",
    "        'PR AUC': np.mean(scores['test_pr_auc'])   \n",
    "    }\n",
    "\n",
    "# Create dataframe\n",
    "cv_df = pd.DataFrame(cv_results).T.sort_values(by=\"F1\", ascending=False)\n",
    "print(cv_df)\n",
    "\n",
    "# Plot\n",
    "cv_df.plot(kind='bar', figsize=(8,5))\n",
    "plt.title(\"Model Comparison (Cross-Validation)\")\n",
    "plt.ylabel(\"Score\")\n",
    "plt.xticks(rotation=45)\n",
    "plt.show()"
   ]
  },
  {
   "cell_type": "markdown",
   "metadata": {},
   "source": [
    "* **LightGBM (F1=0.87, ROC-AUC=0.98, PR-AUC=0.85)** → best overall performer.\n",
    "* **Extra Trees (F1=0.85, ROC-AUC=0.95, PR-AUC=0.85)** → very competitive, slightly lower ROC.\n",
    "* **XGBoost (F1=0.74, PR-AUC=0.83)** → decent, but not as strong as LightGBM.\n",
    "* **Random Forest (F1=0.70, PR-AUC=0.77)** → weaker on both F1 and PR-AUC.\n",
    "\n",
    "---\n",
    "\n",
    "## What This Means\n",
    "\n",
    "* **ROC-AUC values are all high** (as expected in imbalanced data).\n",
    "* **PR-AUC and F1 are more honest**:\n",
    "\n",
    "  * They show how well the model really catches fraud without overwhelming false alarms.\n",
    "  * That’s why LightGBM and Extra Trees stand out, while Random Forest drops off.\n",
    "\n",
    "---"
   ]
  },
  {
   "cell_type": "markdown",
   "metadata": {},
   "source": [
    "## The Problem with ROC-AUC in Imbalanced Data\n",
    "\n",
    "* **ROC-AUC** looks at the tradeoff between True Positive Rate (recall) and False Positive Rate.\n",
    "* In **imbalanced datasets** (like fraud detection: ~0.2% fraud), the number of true negatives is huge.\n",
    "* This makes **False Positive Rate artificially small**, so ROC-AUC looks **great (0.95–0.99)** even if the model misses many frauds.\n",
    "\n",
    "That’s why your models showed **ROC-AUC ≈ 0.98–1.0**, but **F1 ≈ 0.6–0.8** — ROC is over-optimistic.\n",
    "\n",
    "---\n",
    "\n",
    "## Why Precision-Recall (PR) AUC Is Better\n",
    "\n",
    "* **PR-AUC** focuses only on the minority class (fraud = 1):\n",
    "\n",
    "  * **Precision** = Of all predicted frauds, how many are real frauds?\n",
    "  * **Recall** = Of all real frauds, how many did we catch?\n",
    "* The area under the **Precision-Recall curve** shows how well the model balances these two.\n",
    "\n",
    " In fraud detection, this is exactly the tradeoff we care about:\n",
    "\n",
    "* Too high recall → too many false alarms (precision drops)\n",
    "* Too high precision → too many frauds missed (recall drops)\n",
    "\n",
    "---"
   ]
  },
  {
   "cell_type": "markdown",
   "metadata": {},
   "source": [
    "# I've had some problems with overfitting in this fraud detection project. I tried several approaches, and now it's finally under control. You could further improve the models with hyperparameter tuning (using GridSearch or Random Search)."
   ]
  }
 ],
 "metadata": {
  "kernelspec": {
   "display_name": "Python 3",
   "language": "python",
   "name": "python3"
  },
  "language_info": {
   "codemirror_mode": {
    "name": "ipython",
    "version": 3
   },
   "file_extension": ".py",
   "mimetype": "text/x-python",
   "name": "python",
   "nbconvert_exporter": "python",
   "pygments_lexer": "ipython3",
   "version": "3.7.6"
  }
 },
 "nbformat": 4,
 "nbformat_minor": 4
}
